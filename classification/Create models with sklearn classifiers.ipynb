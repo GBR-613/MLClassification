{
 "cells": [
  {
   "cell_type": "markdown",
   "metadata": {},
   "source": [
    "#### Declarations and definitions"
   ]
  },
  {
   "cell_type": "code",
   "execution_count": 1,
   "metadata": {},
   "outputs": [],
   "source": [
    "import numpy as np\n",
    "import gensim\n",
    "import matplotlib.pyplot as plt\n",
    "import pandas as pd\n",
    "from sklearn.pipeline import Pipeline\n",
    "import glob\n",
    "import os\n",
    "import datetime\n",
    "from pathlib import Path\n",
    "from gensim.models.doc2vec import TaggedDocument\n",
    "from gensim.models.word2vec import Word2Vec\n",
    "from collections import namedtuple\n",
    "from sklearn.externals import joblib\n",
    "import statistics\n",
    "import random\n",
    "\n",
    "homePath = str(Path.home()) + \"/MLClassificationData\"\n",
    "# Path to tokenized corpus for training\n",
    "trainRoot = homePath + '/train/rtanews/target'\n",
    "# Path to tokenized corpus for testing\n",
    "testRoot = homePath + '/test/rtanews/target'\n",
    "# Path to saved models\n",
    "modelPath = homePath + '/models'\n",
    "modelId = 2\n",
    "nCats = 0\n",
    "n_dim = 100\n",
    "categories = dict()\n",
    "\n",
    "LabeledDocument = namedtuple('LabeledDocument', 'lines words labels nlabs qLabs')\n",
    "\n",
    "def getCategories(path):\n",
    "    cats = dict()\n",
    "    nCats = 0\n",
    "    os.chdir(path)\n",
    "    for f in glob.glob(\"*\"):\n",
    "        if os.path.isdir(f):\n",
    "            cats[f] = nCats\n",
    "            nCats += 1\n",
    "    return cats\n",
    "\n",
    "def prepareDocsData(path, cats):\n",
    "    files = dict()\n",
    "    fInCats = [0] * len(cats)\n",
    "    nFiles = 0\n",
    "    actFiles = 0\n",
    "    curCategory = 0\n",
    "    docs = []\n",
    "    os.chdir(path)\n",
    "    rootDir = os.getcwd()\n",
    "    for f in glob.glob(\"*\"):\n",
    "        curCategory = cats[f]\n",
    "        catPath = path + \"/\" + f\n",
    "        os.chdir(catPath)\n",
    "        for fc in glob.glob(\"*\"):\n",
    "            actFiles += 1\n",
    "            if fc not in files:\n",
    "                nFiles += 1\n",
    "                fPath = catPath + \"/\" + fc\n",
    "                docCont = ''\n",
    "                with open(fc, 'r', encoding='UTF-8') as tc:\n",
    "                    for line in tc:\n",
    "                        docCont += line.strip() + \" \"\n",
    "                tc.close()\n",
    "                words = docCont.strip().split() \n",
    "                labels = [0] * len(cats)\n",
    "                labels[curCategory] = 1\n",
    "                nlabs = [f]\n",
    "                files[fc] = LabeledDocument(docCont.strip(), words, labels, nlabs, [1])\n",
    "            else:\n",
    "                files[fc].labels[curCategory] = 1\n",
    "                files[fc].nlabs.append(f)\n",
    "                files[fc].qLabs[0] += 1\n",
    "            fInCats[curCategory] += 1\n",
    "    kk = 0\n",
    "    for k, val in files.items():\n",
    "        docs.append(val)\n",
    "    return docs, fInCats\n",
    "\n",
    "def getLabelSets(docs):\n",
    "    labels = [x[2] for x in docs]\n",
    "    results = [labels[0]]\n",
    "    qLabs = 0\n",
    "    for i in range(len(labels)):        \n",
    "        if i%1000 == 0:\n",
    "            print (str(i), end='\\r')\n",
    "        qLabs += sum(labels[i])\n",
    "        count = 0\n",
    "        for j in range(len(results)):\n",
    "            for k in range(len(categories)):\n",
    "                if labels[i][k] != results[j][k]:\n",
    "                    count += 1\n",
    "                    break\n",
    "        if count == len(results):\n",
    "            results.append(labels[i])\n",
    "    return len(results), qLabs\n",
    "    \n",
    "def showTime(ds,de):\n",
    "    result = ''\n",
    "    seconds = (de-ds).total_seconds()\n",
    "    if seconds < 1:\n",
    "        return \"less than 1 sec\"\n",
    "    hh = int(seconds/(60*60));\n",
    "    if hh > 0:\n",
    "        result = \"%d h:\"%(hh);\n",
    "    seconds -= hh*60*60\n",
    "    mm = int(seconds/60);\n",
    "    if mm > 0:\n",
    "        result += \"%d min:\"%(mm)\n",
    "    ss = seconds - mm*60;\n",
    "    result += \"%d sec\"%(ss)\n",
    "    return result\n",
    "\n",
    "def showDocsByLength(plt):\n",
    "    fig, (plot1, plot2) = plt.subplots(1, 2, figsize=(10,6))    \n",
    "    dictLens = dict()\n",
    "    dictLens1 = dict()\n",
    "    for i in range(len(trainDocs)):\n",
    "        lend = \"%5d\"%(len(trainDocs[i].words))\n",
    "        if not lend in dictLens:\n",
    "            dictLens[lend] = 1\n",
    "        else:\n",
    "            dictLens[lend] += 1\n",
    "    lens = sorted(list(dictLens.items()))\n",
    "    lvars = [int(x[0]) for x in lens]\n",
    "    locc = [x[1] for x in lens]\n",
    "    plot1.set_title (\"Documents by tokens in training set\")\n",
    "    plot1.set_ylabel(\"Documents\")\n",
    "    plot1.set_xlabel(\"Tokens\")\n",
    "    plot1.plot(lvars, locc, \"b.-\") \n",
    "    for i in range(len(testDocs)):\n",
    "        lend = \"%5d\"%(len(testDocs[i].words))\n",
    "        if not lend in dictLens1:\n",
    "            dictLens1[lend] = 1\n",
    "        else:\n",
    "            dictLens1[lend] += 1\n",
    "    lens1 = sorted(list(dictLens1.items()))\n",
    "    lvars1 = [int(x[0]) for x in lens1]\n",
    "    locc1 = [x[1] for x in lens1]\n",
    "    plot2.set_title (\"Documents by tokens in testing set\")\n",
    "    #plot2.set_ylabel(\"Documents\")\n",
    "    plot2.set_xlabel(\"Tokens\")\n",
    "    plot2.yaxis.tick_right()\n",
    "    plot2.plot(lvars1, locc1, \"b.-\") \n",
    "    plt.show()\n",
    "    \n",
    "def showDocsByLabs(plt):\n",
    "    fig, (plot1, plot2) = plt.subplots(1, 2, figsize=(10,6))\n",
    "    dictLabs = dict()\n",
    "    dictLabs1 = dict()\n",
    "    for i in range(len(trainDocs)):\n",
    "        lab = \"%5d\"%(trainDocs[i].qLabs[0])\n",
    "        if not lab in dictLabs:\n",
    "            dictLabs[lab] = 1\n",
    "        else:\n",
    "            dictLabs[lab] += 1\n",
    "    labs = sorted(list(dictLabs.items()))\n",
    "    lvars1 = [int(x[0]) for x in labs]\n",
    "    locc1 = [x[1] for x in labs]\n",
    "    plot1.set_title (\"Documents by labels in training set\")\n",
    "    plot1.set_ylabel(\"Documents\")\n",
    "    plot1.set_xlabel(\"Labels\")\n",
    "    plot1.set_xticks(np.arange(0, len(categories), step=1))\n",
    "    plot1.plot(lvars1, locc1, \"bo-\")\n",
    "    for i in range(len(testDocs)):\n",
    "        lab = \"%5d\"%(testDocs[i].qLabs[0])\n",
    "        if not lab in dictLabs1:\n",
    "            dictLabs1[lab] = 1\n",
    "        else:\n",
    "            dictLabs1[lab] += 1\n",
    "    labs1 = sorted(list(dictLabs1.items()))\n",
    "    lvars2 = [int(x[0]) for x in labs1]\n",
    "    locc2 = [x[1] for x in labs1]\n",
    "    plot2.set_title (\"Documents by labels in testing set\")\n",
    "    #plot2.set_ylabel(\"Documents\")\n",
    "    plot2.set_xlabel(\"Labels\")\n",
    "    plot2.set_xticks(np.arange(0, len(categories), step=1))\n",
    "    plot2.yaxis.tick_right()\n",
    "    plot2.plot(lvars2, locc2, \"bo-\")\n",
    "    plt.show()"
   ]
  },
  {
   "cell_type": "markdown",
   "metadata": {},
   "source": [
    "#### Calculate metrics"
   ]
  },
  {
   "cell_type": "code",
   "execution_count": 2,
   "metadata": {},
   "outputs": [],
   "source": [
    "def rankIndicator(test, result, index):\n",
    "    actual = False\n",
    "    predicted = False\n",
    "    if result[index] == 1:\n",
    "        predicted = True\n",
    "    if test[index] == 1:\n",
    "        actual = True\n",
    "    return actual, predicted\n",
    "\n",
    "def getMetrics(test_labels, res, categories, rank):\n",
    "    # General results   \n",
    "    tp = 0\n",
    "    fp = 0\n",
    "    fn = 0\n",
    "    tagged = 0\n",
    "    predicted = 0\n",
    "    for i in range(len(y_test)):\n",
    "        for j in range(len(categories)):\n",
    "            if prediction[i][j] == 1:\n",
    "                predicted += 1\n",
    "                if y_test[i][j] == 1:\n",
    "                    tagged += 1\n",
    "                    tp += 1\n",
    "                else:\n",
    "                    fp += 1\n",
    "            else:\n",
    "                if y_test[i][j] == 1:\n",
    "                    tagged += 1\n",
    "                    fn += 1\n",
    "    print (\"Labels actual: %d, predicted: %d, correctly: %d, incorrectly: %d, not predicted: %d\"%(tagged, predicted, tp, fp, fn))\n",
    "    print('Test accuracy is {}'.format(accuracy_score(y_test, prediction)))\n",
    "\n",
    "    #Exact Match Ratio\n",
    "    wrongPreds = 0\n",
    "    for i in range(len(test_labels)):\n",
    "        for j in range(len(categories)):\n",
    "            actual, predicted = rankIndicator(test_labels[i], res[i], j)\n",
    "            if (actual and not predicted) or (predicted and not actual):\n",
    "                wrongPreds += 1\n",
    "                break;\n",
    "    print (\"Exact Match Ratio:  %.2f%%\" % ((len(test_labels) - wrongPreds)/len(test_labels) * 100))\n",
    "\n",
    "    #Accuracy\n",
    "    accuracy = 0.\n",
    "    for i in range(len(test_labels)):\n",
    "        labels = sum(test_labels[i])\n",
    "        tp = 0\n",
    "        tfp = 0\n",
    "        for j in range(len(categories)):\n",
    "            actual, predicted = rankIndicator(test_labels[i], res[i], j)\n",
    "            if actual and predicted:\n",
    "                tp += 1\n",
    "            if predicted and not actual:\n",
    "                tfp += 1\n",
    "        accuracy += tp / (labels + tfp)\n",
    "    print (\"Accuracy:  %.2f%%\" % (accuracy / len(test_labels) * 100))  \n",
    "\n",
    "    #Precision\n",
    "    precision = 0.\n",
    "    for i in range(len(test_labels)):\n",
    "        labels = sum(test_labels[i])\n",
    "        tp = 0\n",
    "        tfp = 0\n",
    "        for j in range(len(categories)):\n",
    "            actual, predicted = rankIndicator(test_labels[i], res[i], j)\n",
    "            if actual and predicted:\n",
    "                tp += 1\n",
    "        precision += tp / labels\n",
    "    print (\"Precision:  %.2f%%\" % (precision / len(test_labels) * 100))  \n",
    "\n",
    "    #Recall\n",
    "    recall = 0.\n",
    "    for i in range(len(test_labels)):\n",
    "        labels = sum(test_labels[i])\n",
    "        tp = 0\n",
    "        tfp = 0\n",
    "        for j in range(len(categories)):\n",
    "            actual, predicted = rankIndicator(test_labels[i], res[i], j)\n",
    "            if actual and predicted:\n",
    "                tp += 1\n",
    "            if predicted:\n",
    "                tfp += 1\n",
    "        if tfp > 0:\n",
    "            recall += tp / tfp\n",
    "    print (\"Recall:  %.2f%%\" % (recall / len(test_labels) * 100))  \n",
    "\n",
    "    #F1-Measure\n",
    "    f1 = 0.\n",
    "    for i in range(len(test_labels)):\n",
    "        labels = sum(test_labels[i])\n",
    "        tp = 0\n",
    "        tfp = 0\n",
    "        for j in range(len(categories)):\n",
    "            actual, predicted = rankIndicator(test_labels[i], res[i], j)\n",
    "            if actual and predicted:\n",
    "                tp += 1\n",
    "            if predicted:\n",
    "                tfp += 1\n",
    "        f1 += 2 * tp / (tfp + labels)\n",
    "    print (\"F1-Measure:  %.2f%%\" % (f1 / len(test_labels) * 100))\n",
    "\n",
    "    #Hamming Loss\n",
    "    hl = 0.\n",
    "    for i in range(len(test_labels)):\n",
    "        labels = sum(test_labels[i])\n",
    "        for j in range(len(categories)):\n",
    "            actual, predicted = rankIndicator(test_labels[i], res[i], j)\n",
    "            if (actual and not predicted) or (predicted and not actual):\n",
    "                hl += 1\n",
    "    print (\"Hamming Loss:  %.2f%%\" % (hl * 100 / (len(test_labels) * len(categories)))) \n",
    "\n",
    "    #Macro-Averaged Precision\n",
    "    precision = 0\n",
    "    for i in range(len(categories)):\n",
    "        tp = 0\n",
    "        tact = 0\n",
    "        for j in range(len(test_labels)):\n",
    "            actual, predicted = rankIndicator(test_labels[j], res[j], i) \n",
    "            if not actual:\n",
    "                continue\n",
    "            tact += 1\n",
    "            if predicted:\n",
    "                tp += 1\n",
    "        precision += tp / tact\n",
    "    print (\"Macro-Averaged Precision:  %.2f%%\" % (precision / len(categories) * 100))  \n",
    "\n",
    "    #Macro-Averaged Recall\n",
    "    recall = 0\n",
    "    for i in range(len(categories)):\n",
    "        tp = 0\n",
    "        tact = 0\n",
    "        for j in range(len(test_labels)):\n",
    "            actual, predicted = rankIndicator(test_labels[j], res[j], i)\n",
    "            if predicted:\n",
    "                tact += 1\n",
    "                if actual:\n",
    "                    tp += 1\n",
    "        recall += tp / tact\n",
    "    print (\"Macro-Averaged Recall:  %.2f%%\" % (recall / len(categories) * 100))  \n",
    "\n",
    "    #Macro-Averaged F1-Measure\n",
    "    f1 = 0\n",
    "    for i in range(len(categories)):\n",
    "        tp = 0\n",
    "        tact = 0\n",
    "        labs = 0\n",
    "        for j in range(len(test_labels)):\n",
    "            actual, predicted = rankIndicator(test_labels[j], res[j], i)\n",
    "            if actual:\n",
    "                labs += 1\n",
    "            if predicted:\n",
    "                tact += 1\n",
    "                if actual:\n",
    "                    tp += 1\n",
    "        f1 += 2 * tp / (tact + labs)\n",
    "    print (\"Macro-Averaged F1-Measure:  %.2f%%\" % (f1 / len(categories) * 100))  \n",
    "\n",
    "    #Micro-Averaged Precision\n",
    "    precision = 0\n",
    "    tp = 0\n",
    "    tact = 0\n",
    "    for i in range(len(categories)):\n",
    "        for j in range(len(test_labels)):\n",
    "            actual, predicted = rankIndicator(test_labels[j], res[j], i) \n",
    "            if not actual:\n",
    "                continue\n",
    "            tact += 1\n",
    "            if predicted:\n",
    "                tp += 1\n",
    "    precision += tp / tact\n",
    "    print (\"Micro-Averaged Precision:  %.2f%%\" % (precision * 100))  \n",
    "\n",
    "    #Micro-Averaged Recall\n",
    "    recall = 0\n",
    "    tp = 0\n",
    "    tact = 0\n",
    "    for i in range(len(categories)):\n",
    "        for j in range(len(test_labels)):\n",
    "            actual, predicted = rankIndicator(test_labels[j], res[j], i)\n",
    "            if predicted:\n",
    "                tact += 1\n",
    "                if actual:\n",
    "                    tp += 1\n",
    "    recall += tp / tact\n",
    "    print (\"Micro-Averaged Recall:  %.2f%%\" % (recall * 100))  \n",
    "\n",
    "    #Micro-Averaged F1-Measure\n",
    "    f1 = 0\n",
    "    tp = 0\n",
    "    tact = 0\n",
    "    labs = 0\n",
    "    for i in range(len(categories)):\n",
    "        for j in range(len(test_labels)):\n",
    "            actual, predicted = rankIndicator(test_labels[j], res[j], i)\n",
    "            if actual:\n",
    "                labs += 1\n",
    "            if predicted:\n",
    "                tact += 1\n",
    "                if actual:\n",
    "                    tp += 1\n",
    "    f1 += 2 * tp / (tact + labs)\n",
    "    print (\"Micro-Averaged F1-Measure:  %.2f%%\" % (f1 * 100))  \n",
    "\n",
    "    if not rank:\n",
    "        return\n",
    "    \n",
    "    #One error\n",
    "    o_err = 0\n",
    "    for i in range(len(test_labels)):\n",
    "        list = [(0,0) for i in range(len(categories))]\n",
    "        for j in range(len(categories)):\n",
    "            list[j] = (test_labels[i][j], res[i][j])\n",
    "        list.sort(key=getPrediction, reverse=True)\n",
    "        if list[0][0] == 0:\n",
    "            o_err += 1\n",
    "    print (\"One Error: %.2f%%\" % (o_err / len(test_labels) * 100))\n",
    "\n",
    "    #Coverage\n",
    "    stepsDown = 0\n",
    "    for i in range(len(test_labels)):\n",
    "        bound = sum(test_labels[i]) - 1\n",
    "        list = [(0,0,0) for i in range(len(categories))]\n",
    "        for j in range(len(categories)):\n",
    "            list[j] = (test_labels[i][j], res[i][j], j)\n",
    "        list.sort(key=getPrediction, reverse=True)\n",
    "        eSteps = 0\n",
    "        for j in range(len(categories)):\n",
    "            if test_labels[i][j] == 0:\n",
    "                continue\n",
    "            for k in range(len(list)):\n",
    "                if list[k][2] == j:\n",
    "                    eSteps = max(eSteps, k)\n",
    "        stepsDown += max(0, eSteps - bound)\n",
    "    print (\"Coverage: %.2f\" % (stepsDown / len(test_labels))) \n",
    "\n",
    "    #Ranking Loss\n",
    "    rl = 0\n",
    "    for i in range(len(test_labels)):\n",
    "        mult = sum(test_labels[i])\n",
    "        list = [(0,0) for i in range(len(categories))]\n",
    "        wrongOrder = 0\n",
    "        for j in range(len(categories)):\n",
    "            list[j] = (test_labels[i][j], res[i][j])\n",
    "        list.sort(key=getPrediction, reverse=True)\n",
    "        for j in range(len(list)):\n",
    "            if list[j][0] == 1:\n",
    "                mult -= 1\n",
    "                if mult == 0:\n",
    "                    break\n",
    "                continue\n",
    "            wrongOrder += mult\n",
    "        rl += wrongOrder / sum(test_labels[i])\n",
    "    print (\"Ranking Loss: %.2f\" % (rl / len(test_labels)))    "
   ]
  },
  {
   "cell_type": "markdown",
   "metadata": {},
   "source": [
    "#### Load input data"
   ]
  },
  {
   "cell_type": "code",
   "execution_count": 3,
   "metadata": {},
   "outputs": [
    {
     "name": "stdout",
     "output_type": "stream",
     "text": [
      "Load input data in 3 sec\n"
     ]
    }
   ],
   "source": [
    "ds = datetime.datetime.now()\n",
    "categories = getCategories(trainRoot)\n",
    "trainDocs, fInCats1 = prepareDocsData(trainRoot, categories)\n",
    "trainDocs = random.sample(trainDocs, len(trainDocs))\n",
    "testDocs, fInCats2 = prepareDocsData(testRoot, categories)\n",
    "testDocs = random.sample(testDocs, len(testDocs))\n",
    "maxDocLen = max(len(x.words) for x in trainDocs)\n",
    "minDocLen = min(len(x.words) for x in trainDocs)\n",
    "avrgDocLen = round(statistics.mean(len(x.words) for x in trainDocs), 2)\n",
    "de = datetime.datetime.now()\n",
    "print (\"Load input data in %s\"%(showTime(ds, de))) "
   ]
  },
  {
   "cell_type": "markdown",
   "metadata": {},
   "source": [
    "#### Dataset analisys"
   ]
  },
  {
   "cell_type": "code",
   "execution_count": 4,
   "metadata": {},
   "outputs": [
    {
     "name": "stdout",
     "output_type": "stream",
     "text": [
      "Dataset properties:\n",
      "Loaded 23837 documents: 15001 for training, 8836 for test\n",
      "Tokens in documents: maximum: 1330, minimum: 46, average: 170\n"
     ]
    },
    {
     "data": {
      "image/png": "[encoded data removed]",
      "text/plain": [
       "<Figure size 720x432 with 2 Axes>"
      ]
     },
     "metadata": {
      "needs_background": "light"
     },
     "output_type": "display_data"
    },
    {
     "name": "stdout",
     "output_type": "stream",
     "text": [
      "Categories: 40\n",
      "Documents for training in category : maximum: 2800, minimum: 93, avegare: 415\n",
      "Documents for testing  in category : maximum: 1501, minimum: 65, avegare: 276\n"
     ]
    },
    {
     "data": {
      "image/png": "[encoded data removed]",
      "text/plain": [
       "<Figure size 720x432 with 2 Axes>"
      ]
     },
     "metadata": {
      "needs_background": "light"
     },
     "output_type": "display_data"
    },
    {
     "name": "stdout",
     "output_type": "stream",
     "text": [
      "Distinct Label Set: 290\n",
      "Proportion of Distinct Label Set: 0.0193\n",
      "Label Cardinality: 1.1073\n",
      "Label Density: 0.0277\n"
     ]
    }
   ],
   "source": [
    "print (\"Dataset properties:\")\n",
    "dls, qLabs = getLabelSets(trainDocs)\n",
    "print ('Loaded %d documents: %d for training, %d for test' % (len(trainDocs) + len(testDocs), len(trainDocs), len(testDocs)))\n",
    "print (\"Tokens in documents: maximum: %d, minimum: %d, average: %d\"%(maxDocLen, minDocLen, avrgDocLen))\n",
    "showDocsByLength(plt)\n",
    "print (\"Categories: %d\"%(len(categories)))\n",
    "print (\"Documents for training in category : maximum: %d, minimum: %d, avegare: %d\"%(max(fInCats1), min(fInCats1), round(statistics.mean(fInCats1), 2)))\n",
    "print (\"Documents for testing  in category : maximum: %d, minimum: %d, avegare: %d\"%(max(fInCats2), min(fInCats2), round(statistics.mean(fInCats2), 2)))\n",
    "showDocsByLabs(plt)\n",
    "print (\"Distinct Label Set: %d\"%(dls))\n",
    "print (\"Proportion of Distinct Label Set: %.4f\"%(dls/len(trainDocs)))\n",
    "print (\"Label Cardinality: %.4f\"%(qLabs/len(trainDocs)))\n",
    "print (\"Label Density: %.4f\"%(qLabs/len(trainDocs)/len(categories)))"
   ]
  },
  {
   "cell_type": "markdown",
   "metadata": {},
   "source": [
    "#### Prepare input for training and testing"
   ]
  },
  {
   "cell_type": "code",
   "execution_count": 5,
   "metadata": {
    "scrolled": false
   },
   "outputs": [
    {
     "name": "stdout",
     "output_type": "stream",
     "text": [
      "Prepare data in 1 min:2 sec\n"
     ]
    }
   ],
   "source": [
    "from sklearn.preprocessing import MultiLabelBinarizer\n",
    "from sklearn.multioutput import MultiOutputClassifier\n",
    "from sklearn.feature_extraction.text import CountVectorizer\n",
    "from sklearn.feature_extraction.text import TfidfVectorizer\n",
    "from sklearn.metrics import accuracy_score\n",
    "\n",
    "print (\"Prepare data...\", end='\\r')\n",
    "ds = datetime.datetime.now()\n",
    "nmCats = [\"\"] * len(categories)\n",
    "cKeys = list(categories.keys())\n",
    "for i in range(len(cKeys)):\n",
    "    nmCats[categories[cKeys[i]]] = cKeys[i]\n",
    "    \n",
    "mlb = MultiLabelBinarizer(classes = nmCats)\n",
    "wev = TfidfVectorizer(ngram_range=(1,3), max_df=0.50).fit([x.lines for x in trainDocs], [x.nlabs for x in trainDocs])\n",
    "X_train = wev.transform([x.lines for x in trainDocs])\n",
    "y_train = mlb.fit_transform([x.nlabs for x in trainDocs])\n",
    "X_test = wev.transform([x.lines for x in testDocs])\n",
    "y_test = mlb.fit_transform([x.nlabs for x in testDocs])\n",
    "de = datetime.datetime.now()\n",
    "print (\"Prepare data in %s\"%(showTime(ds, de)))"
   ]
  },
  {
   "cell_type": "markdown",
   "metadata": {},
   "source": [
    "#### Create model using RidgeClassifierCV"
   ]
  },
  {
   "cell_type": "code",
   "execution_count": 6,
   "metadata": {},
   "outputs": [
    {
     "name": "stdout",
     "output_type": "stream",
     "text": [
      "Train in 3 h:54 min:56 sec\n",
      "Prediction in 1 sec\n",
      "Labels actual: 11060, predicted: 8868, correctly: 7550, incorrectly: 1318, not predicted: 3510\n",
      "Test accuracy is 0.6084200995925758\n",
      "Exact Match Ratio:  60.84%\n",
      "Accuracy:  70.34%\n",
      "Precision:  73.55%\n",
      "Recall:  76.93%\n",
      "F1-Measure:  73.60%\n",
      "Hamming Loss:  1.37%\n",
      "Macro-Averaged Precision:  63.71%\n",
      "Macro-Averaged Recall:  84.32%\n",
      "Macro-Averaged F1-Measure:  71.18%\n",
      "Micro-Averaged Precision:  68.26%\n",
      "Micro-Averaged Recall:  85.14%\n",
      "Micro-Averaged F1-Measure:  75.77%\n"
     ]
    }
   ],
   "source": [
    "from sklearn.linear_model import RidgeClassifierCV\n",
    "from sklearn.multiclass import OneVsRestClassifier\n",
    "\n",
    "print (\"Train...\", end='\\r')\n",
    "clf1 = OneVsRestClassifier(RidgeClassifierCV())\n",
    "de = datetime.datetime.now()\n",
    "clf1.fit(X_train, y_train)\n",
    "ds = datetime.datetime.now()\n",
    "print (\"Train in %s\"%(showTime(de, ds)))\n",
    "\n",
    "print (\"Prediction...\", end='\\r')\n",
    "prediction = clf1.predict(X_test)\n",
    "de = datetime.datetime.now()\n",
    "print (\"Prediction in %s\"%(showTime(ds, de)))\n",
    "getMetrics(y_test, prediction, categories, False)"
   ]
  },
  {
   "cell_type": "markdown",
   "metadata": {},
   "source": [
    "#### Create model using LinearSVC"
   ]
  },
  {
   "cell_type": "code",
   "execution_count": 7,
   "metadata": {},
   "outputs": [
    {
     "name": "stdout",
     "output_type": "stream",
     "text": [
      "Train in 46 sec\n",
      "Prediction in less than 1 sec\n",
      "Labels actual: 11060, predicted: 8471, correctly: 7269, incorrectly: 1202, not predicted: 3791\n",
      "Test accuracy is 0.5950656405613399\n",
      "Exact Match Ratio:  59.51%\n",
      "Accuracy:  68.47%\n",
      "Precision:  71.19%\n",
      "Recall:  75.06%\n",
      "F1-Measure:  71.55%\n",
      "Hamming Loss:  1.41%\n",
      "Macro-Averaged Precision:  59.76%\n",
      "Macro-Averaged Recall:  85.21%\n",
      "Macro-Averaged F1-Measure:  68.23%\n",
      "Micro-Averaged Precision:  65.72%\n",
      "Micro-Averaged Recall:  85.81%\n",
      "Micro-Averaged F1-Measure:  74.44%\n"
     ]
    }
   ],
   "source": [
    "from sklearn.multiclass import OneVsRestClassifier\n",
    "from sklearn.svm import LinearSVC\n",
    "\n",
    "de = datetime.datetime.now()\n",
    "print (\"Train...\", end='\\r')\n",
    "clf2 = OneVsRestClassifier(LinearSVC(multi_class='ovr'))\n",
    "clf2.fit(X_train, y_train)\n",
    "ds = datetime.datetime.now()\n",
    "print (\"Train in %s\"%(showTime(de, ds)))\n",
    "\n",
    "print (\"Prediction...\", end='\\r')\n",
    "prediction = clf2.predict(X_test)\n",
    "de = datetime.datetime.now()\n",
    "print (\"Prediction in %s\"%(showTime(ds, de)))\n",
    "getMetrics(y_test, prediction, categories, False)"
   ]
  },
  {
   "cell_type": "markdown",
   "metadata": {},
   "source": [
    "#### Create model using SGDClassifier"
   ]
  },
  {
   "cell_type": "code",
   "execution_count": 8,
   "metadata": {},
   "outputs": [
    {
     "name": "stdout",
     "output_type": "stream",
     "text": [
      "Train in 1 min:30 sec\n",
      "Prediction in 1 sec\n",
      "Labels actual: 11060, predicted: 9109, correctly: 7616, incorrectly: 1493, not predicted: 3444\n",
      "Test accuracy is 0.5998189225894069\n",
      "Exact Match Ratio:  59.98%\n",
      "Accuracy:  70.10%\n",
      "Precision:  74.05%\n",
      "Recall:  76.51%\n",
      "F1-Measure:  73.57%\n",
      "Hamming Loss:  1.40%\n",
      "Macro-Averaged Precision:  64.21%\n",
      "Macro-Averaged Recall:  82.52%\n",
      "Macro-Averaged F1-Measure:  70.83%\n",
      "Micro-Averaged Precision:  68.86%\n",
      "Micro-Averaged Recall:  83.61%\n",
      "Micro-Averaged F1-Measure:  75.52%\n"
     ]
    }
   ],
   "source": [
    "from sklearn.multiclass import OneVsRestClassifier\n",
    "from sklearn.linear_model import SGDClassifier\n",
    "\n",
    "de = datetime.datetime.now()\n",
    "print (\"Train...\", end='\\r')\n",
    "clf3 = OneVsRestClassifier(SGDClassifier(loss='modified_huber', penalty='elasticnet', alpha=1e-4, max_iter=10, n_jobs=-1))\n",
    "clf3.fit(X_train, y_train)\n",
    "ds = datetime.datetime.now()\n",
    "print (\"Train in %s\"%(showTime(de, ds)))\n",
    "\n",
    "print (\"Prediction...\", end='\\r')\n",
    "prediction = clf3.predict(X_test)\n",
    "de = datetime.datetime.now()\n",
    "print (\"Prediction in %s\"%(showTime(ds, de)))\n",
    "getMetrics(y_test, prediction, categories, False)"
   ]
  },
  {
   "cell_type": "markdown",
   "metadata": {},
   "source": [
    "#### Create model using Perceptron"
   ]
  },
  {
   "cell_type": "code",
   "execution_count": 10,
   "metadata": {},
   "outputs": [
    {
     "name": "stdout",
     "output_type": "stream",
     "text": [
      "Train in 1 min:4 sec\n",
      "Prediction in less than 1 sec\n",
      "Labels actual: 11060, predicted: 10430, correctly: 8070, incorrectly: 2360, not predicted: 2990\n",
      "Test accuracy is 0.590651878678135\n",
      "Exact Match Ratio:  59.07%\n",
      "Accuracy:  71.62%\n",
      "Precision:  78.09%\n",
      "Recall:  77.99%\n",
      "F1-Measure:  75.95%\n",
      "Hamming Loss:  1.51%\n",
      "Macro-Averaged Precision:  71.56%\n",
      "Macro-Averaged Recall:  73.41%\n",
      "Macro-Averaged F1-Measure:  72.08%\n",
      "Micro-Averaged Precision:  72.97%\n",
      "Micro-Averaged Recall:  77.37%\n",
      "Micro-Averaged F1-Measure:  75.10%\n"
     ]
    }
   ],
   "source": [
    "from sklearn.multiclass import OneVsRestClassifier\n",
    "from sklearn.linear_model import Perceptron\n",
    "\n",
    "de = datetime.datetime.now()\n",
    "print (\"Train...\", end='\\r')\n",
    "clf4 = OneVsRestClassifier(Perceptron(n_jobs=-1, max_iter=20))\n",
    "clf4.fit(X_train, y_train)\n",
    "ds = datetime.datetime.now()\n",
    "print (\"Train in %s\"%(showTime(de, ds)))\n",
    "\n",
    "print (\"Prediction...\", end='\\r')\n",
    "prediction = clf4.predict(X_test)\n",
    "de = datetime.datetime.now()\n",
    "print (\"Prediction in %s\"%(showTime(ds, de)))\n",
    "getMetrics(y_test, prediction, categories, False)"
   ]
  },
  {
   "cell_type": "markdown",
   "metadata": {},
   "source": [
    "#### Create model using PassiveAggressiveClassifier"
   ]
  },
  {
   "cell_type": "code",
   "execution_count": 11,
   "metadata": {},
   "outputs": [
    {
     "name": "stdout",
     "output_type": "stream",
     "text": [
      "Train in 1 min:13 sec\n",
      "Prediction in less than 1 sec\n",
      "Labels actual: 11060, predicted: 8895, correctly: 7608, incorrectly: 1287, not predicted: 3452\n",
      "Test accuracy is 0.6156631960162969\n",
      "Exact Match Ratio:  61.57%\n",
      "Accuracy:  71.08%\n",
      "Precision:  74.13%\n",
      "Recall:  77.78%\n",
      "F1-Measure:  74.33%\n",
      "Hamming Loss:  1.34%\n",
      "Macro-Averaged Precision:  64.72%\n",
      "Macro-Averaged Recall:  84.73%\n",
      "Macro-Averaged F1-Measure:  71.92%\n",
      "Micro-Averaged Precision:  68.79%\n",
      "Micro-Averaged Recall:  85.53%\n",
      "Micro-Averaged F1-Measure:  76.25%\n"
     ]
    }
   ],
   "source": [
    "from sklearn.multiclass import OneVsRestClassifier\n",
    "from sklearn.linear_model import PassiveAggressiveClassifier\n",
    "\n",
    "de = datetime.datetime.now()\n",
    "print (\"Train...\", end='\\r')\n",
    "clf5 = OneVsRestClassifier(PassiveAggressiveClassifier(n_jobs=-1, max_iter=20))\n",
    "clf5.fit(X_train, y_train)\n",
    "ds = datetime.datetime.now()\n",
    "print (\"Train in %s\"%(showTime(de, ds)))\n",
    "\n",
    "print (\"Prediction...\", end='\\r')\n",
    "prediction = clf5.predict(X_test)\n",
    "de = datetime.datetime.now()\n",
    "print (\"Prediction in %s\"%(showTime(ds, de)))\n",
    "getMetrics(y_test, prediction, categories, False)"
   ]
  },
  {
   "cell_type": "markdown",
   "metadata": {},
   "source": [
    "#### Save choosen model"
   ]
  },
  {
   "cell_type": "code",
   "execution_count": 12,
   "metadata": {},
   "outputs": [
    {
     "data": {
      "text/plain": [
       "['/home/user/MLClassificationData/models/model2-2018-Nov-18-212022']"
      ]
     },
     "execution_count": 12,
     "metadata": {},
     "output_type": "execute_result"
    }
   ],
   "source": [
    "#Choose one of the models above\n",
    "model = clf5\n",
    "modelId = 2\n",
    "modelName = \"model%d-%s\"%(modelId, datetime.datetime.now().strftime(\"%Y-%b-%d-%H%M%S\"))\n",
    "path = modelPath + \"/\" + modelName\n",
    "joblib.dump(model, path)"
   ]
  },
  {
   "cell_type": "markdown",
   "metadata": {},
   "source": [
    "#### Reload model"
   ]
  },
  {
   "cell_type": "code",
   "execution_count": 13,
   "metadata": {},
   "outputs": [
    {
     "name": "stdout",
     "output_type": "stream",
     "text": [
      "Labels actual: 11060, predicted: 8895, correctly: 7608, incorrectly: 1287, not predicted: 3452\n",
      "Test accuracy is 0.6156631960162969\n",
      "Exact Match Ratio:  61.57%\n",
      "Accuracy:  71.08%\n",
      "Precision:  74.13%\n",
      "Recall:  77.78%\n",
      "F1-Measure:  74.33%\n",
      "Hamming Loss:  1.34%\n",
      "Macro-Averaged Precision:  64.72%\n",
      "Macro-Averaged Recall:  84.73%\n",
      "Macro-Averaged F1-Measure:  71.92%\n",
      "Micro-Averaged Precision:  68.79%\n",
      "Micro-Averaged Recall:  85.53%\n",
      "Micro-Averaged F1-Measure:  76.25%\n"
     ]
    }
   ],
   "source": [
    "model = joblib.load(path)\n",
    "print (\"Prediction...\", end='\\r')\n",
    "prediction = model.predict(X_test)\n",
    "getMetrics(y_test, prediction, categories, False)"
   ]
  }
 ],
 "metadata": {
  "kernelspec": {
   "display_name": "Python 3",
   "language": "python",
   "name": "python3"
  },
  "language_info": {
   "codemirror_mode": {
    "name": "ipython",
    "version": 3
   },
   "file_extension": ".py",
   "mimetype": "text/x-python",
   "name": "python",
   "nbconvert_exporter": "python",
   "pygments_lexer": "ipython3",
   "version": "3.6.6"
  }
 },
 "nbformat": 4,
 "nbformat_minor": 2
}
