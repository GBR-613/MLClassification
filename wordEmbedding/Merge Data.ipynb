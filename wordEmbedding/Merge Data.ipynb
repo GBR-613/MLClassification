{
 "cells": [
  {
   "cell_type": "markdown",
   "metadata": {},
   "source": [
    "#### Merge data\n",
    "Append content of the \"source\" file (or content of all files placed under \"source\" subfolder) to the content of the \"target\" file."
   ]
  },
  {
   "cell_type": "code",
   "execution_count": 8,
   "metadata": {},
   "outputs": [
    {
     "name": "stdout",
     "output_type": "stream",
     "text": [
      "Added at all 297188 lines.\n"
     ]
    }
   ],
   "source": [
    "import os\n",
    "import glob\n",
    "import datetime\n",
    "import sys\n",
    "from pathlib import Path\n",
    "\n",
    "homePath = str(Path.home()) + \"/MLClassificationData\"\n",
    "targetPath = homePath + \"/w2v/source/wiki_ar.txt\"\n",
    "sourcePath = homePath + \"/train/source/docs\"\n",
    "\n",
    "gCount = 0\n",
    "\n",
    "def checkLine(line):\n",
    "    if \"Category\" in line or \"Subcategory\" in line or \"Title\" in line:\n",
    "        return False\n",
    "    return True\n",
    "\n",
    "def readWrite(path, t):\n",
    "    global gCount\n",
    "    count = 0\n",
    "    with open(path, 'r', encoding='UTF-8') as f:\n",
    "        for line in f:\n",
    "            if len(line.strip()) == 0:\n",
    "                continue\n",
    "            if not checkLine(line):\n",
    "                continue\n",
    "            count += 1\n",
    "            gCount += 1\n",
    "        t.write(\"\\n\" + line)  \n",
    "    f.close()\n",
    "    \n",
    "def readFromDir(path, t):\n",
    "    os.chdir(path)\n",
    "    curDir = os.getcwd()\n",
    "    for ff in glob.glob(\"*\"):\n",
    "        if os.path.isdir(ff):\n",
    "            dPath = path + \"/\" + ff\n",
    "            readFromDir(dPath, t)\n",
    "            os.chdir(curDir)\n",
    "            continue\n",
    "        fPath = path + \"/\" + ff\n",
    "        readWrite(fPath, t)\n",
    "\n",
    "if os.path.isdir(targetPath):\n",
    "    print (\"Target (%s) should be a file.\"%(targetPath))\n",
    "    sys.exit()\n",
    "if not os.path.exists(sourcePath):\n",
    "    print (\"Source (%s) doesn't exist.\"%(sourcePath))\n",
    "    sys.exit()\n",
    "\n",
    "t = open(targetPath, 'a', encoding='UTF-8')\n",
    "if os.path.isfile(sourcePath):\n",
    "    readWrite(sourcePath, t)\n",
    "else:\n",
    "    readFromDir(sourcePath, t)\n",
    "t.close()\n",
    "print (\"Added at all %d lines.\"%(gCount))"
   ]
  },
  {
   "cell_type": "code",
   "execution_count": null,
   "metadata": {},
   "outputs": [],
   "source": []
  }
 ],
 "metadata": {
  "kernelspec": {
   "display_name": "Python 3",
   "language": "python",
   "name": "python3"
  },
  "language_info": {
   "codemirror_mode": {
    "name": "ipython",
    "version": 3
   },
   "file_extension": ".py",
   "mimetype": "text/x-python",
   "name": "python",
   "nbconvert_exporter": "python",
   "pygments_lexer": "ipython3",
   "version": "3.6.6"
  }
 },
 "nbformat": 4,
 "nbformat_minor": 2
}
