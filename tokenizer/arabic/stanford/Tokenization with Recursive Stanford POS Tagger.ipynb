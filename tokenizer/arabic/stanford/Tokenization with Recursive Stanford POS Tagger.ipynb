{
 "cells": [
  {
   "cell_type": "markdown",
   "metadata": {},
   "source": [
    "#### Tokenization with Recursive Stanford POS Tagger\n",
    "Source text file(s) are splitted by sentences and sentences are tokenized by wrapper of Stanford POS Tagger (**RecursiveArabicStanfordPOSTagger.jar**), which uses Arabic specific model and properties.\n",
    "It is assumed here, that all source text files will be placed in the folder ~/MLClassificationData.    \n",
    "Original and resulting (tokenized) files will have the same names and will be placed in the same file's tree, under the same root folder:\n",
    "- original files - under subfolder _source_, \n",
    "- tokenized files - under subfolder _target_.\n",
    "\n",
    "_**Note:**_ you should change value of variable _root_ to set actual name of the root folder.\n"
   ]
  },
  {
   "cell_type": "code",
   "execution_count": 8,
   "metadata": {
    "scrolled": false
   },
   "outputs": [
    {
     "name": "stdout",
     "output_type": "stream",
     "text": [
      "Lines: 1000\n",
      "Lines: 2000\n",
      "Lines: 3000\n",
      "Lines: 4000\n",
      "Lines: 5000\n",
      "Lines: 6000\n",
      "Lines: 7000\n",
      "Lines: 8000\n",
      "Lines: 9000\n",
      "Lines: 10000\n",
      "Lines: 11000\n",
      "Lines: 12000\n",
      "Lines: 13000\n",
      "Lines: 14000\n",
      "Lines: 15000\n",
      "Lines: 16000\n",
      "Lines: 17000\n",
      "Lines: 18000\n",
      "Success. Creates 40 folders with 16610 files, containing 18840 lines.\n",
      "\n",
      "All process is done in 53 min:1 sec\n"
     ]
    }
   ],
   "source": [
    "import os\n",
    "import glob\n",
    "import subprocess   \n",
    "import threading\n",
    "import datetime\n",
    "import shutil\n",
    "from pathlib import Path\n",
    "from subprocess import Popen, PIPE\n",
    "\n",
    "taggerPath = str(Path.home()) + \"/MLClassification/tokenizer/arabic/stanford/taggers/RecursiveArabicStanfordPOSTagger.jar\" \n",
    "\n",
    "# Change value of this variable \n",
    "root = \"train/rtanews\"\n",
    "homePath = str(Path.home()) + \"/MLClassificationData\"\n",
    "sourceDir = \"source\"\n",
    "targetDir = \"target\"\n",
    "inPath = homePath + \"/\" + root + \"/source\"\n",
    "\n",
    "def showTime(ds,de):\n",
    "    result = ''\n",
    "    seconds = (de-ds).total_seconds()\n",
    "    hh = int(seconds/(60*60));\n",
    "    if hh > 0:\n",
    "        result = \"%d h:\"%(hh);\n",
    "    seconds -= hh*60*60\n",
    "    mm = int(seconds/60);\n",
    "    if mm > 0:\n",
    "        result += \"%d min:\"%(mm)\n",
    "    ss = seconds - mm*60;\n",
    "    result += \"%d sec\"%(ss)\n",
    "    return result\n",
    "        \n",
    "ds = datetime.datetime.now()        \n",
    "srv = subprocess.Popen(\"java -Xmx2g -jar \" + taggerPath + ' \"' + inPath + '\" \"\" ' + sourceDir + ' ' + targetDir, \n",
    "      stdout=subprocess.PIPE, stderr=subprocess.PIPE, shell=True) \n",
    "srv.wait();\n",
    "reply = srv.communicate()\n",
    "de = datetime.datetime.now()        \n",
    "print (reply[0].decode())\n",
    "print (\"All process is done in %s\"%(showTime(ds,de)))"
   ]
  },
  {
   "cell_type": "code",
   "execution_count": null,
   "metadata": {},
   "outputs": [],
   "source": []
  }
 ],
 "metadata": {
  "kernelspec": {
   "display_name": "Python 3",
   "language": "python",
   "name": "python3"
  },
  "language_info": {
   "codemirror_mode": {
    "name": "ipython",
    "version": 3
   },
   "file_extension": ".py",
   "mimetype": "text/x-python",
   "name": "python",
   "nbconvert_exporter": "python",
   "pygments_lexer": "ipython3",
   "version": "3.6.5"
  }
 },
 "nbformat": 4,
 "nbformat_minor": 2
}
