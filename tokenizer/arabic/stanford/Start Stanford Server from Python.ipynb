{
 "cells": [
  {
   "cell_type": "markdown",
   "metadata": {},
   "source": [
    "#### Start server\n",
    "Run this cell if you need to launch the server."
   ]
  },
  {
   "cell_type": "code",
   "execution_count": 1,
   "metadata": {},
   "outputs": [
    {
     "data": {
      "text/plain": [
       "<Thread(Thread-4, started 140534869907200)>"
      ]
     },
     "execution_count": 1,
     "metadata": {},
     "output_type": "execute_result"
    }
   ],
   "source": [
    "import os\n",
    "import subprocess   \n",
    "import threading\n",
    "from subprocess import Popen, PIPE\n",
    "from pathlib import Path\n",
    "\n",
    "stanford_path = str(Path.home()) + \"/stanford-corenlp-full-2016-10-31/\"    \n",
    "currdir = os.getcwd()\n",
    "os.chdir(stanford_path)\n",
    "os.environ[\"CLASSPATH\"] = \"*\"\n",
    "\n",
    "def runServer(onExit, popenArgs):\n",
    "    def runInThread(onExit, popenArgs):\n",
    "        global pid\n",
    "        srv = Popen('java -Xmx4g -cp \"*\" edu.stanford.nlp.pipeline.StanfordCoreNLPServer -serverProperties ' + \n",
    "                 stanford_path + 'StanfordCoreNLP-arabic.properties -preload tokenize,ssplit,pos -status_port 9005  -port 9005 -timeout 20000',\n",
    "                 shell=True)\n",
    "        srv.wait()\n",
    "        onExit()\n",
    "        return\n",
    "    thread = threading.Thread(target=runInThread, args=(onExit, ''))\n",
    "    thread.start()    \n",
    "    return thread\n",
    "    \n",
    "def onExit():\n",
    "    print (\"Server is down\")\n",
    "    \n",
    "runServer(onExit, '')"
   ]
  },
  {
   "cell_type": "markdown",
   "metadata": {},
   "source": [
    "#### Check that server works\n",
    "You will get results of parsing, if server is up, and communication error in opposite case."
   ]
  },
  {
   "cell_type": "code",
   "execution_count": null,
   "metadata": {},
   "outputs": [],
   "source": [
    "from nltk.parse.corenlp import CoreNLPParser\n",
    "\n",
    "parser = CoreNLPParser(url='http://localhost:9005', tagtype='pos')\n",
    "text = \"مشيتُ من بيتي إلى المدرسة.\"\n",
    "parser.tag(text.split())"
   ]
  },
  {
   "cell_type": "code",
   "execution_count": null,
   "metadata": {},
   "outputs": [],
   "source": []
  }
 ],
 "metadata": {
  "kernelspec": {
   "display_name": "Python 3",
   "language": "python",
   "name": "python3"
  },
  "language_info": {
   "codemirror_mode": {
    "name": "ipython",
    "version": 3
   },
   "file_extension": ".py",
   "mimetype": "text/x-python",
   "name": "python",
   "nbconvert_exporter": "python",
   "pygments_lexer": "ipython3",
   "version": "3.6.5"
  }
 },
 "nbformat": 4,
 "nbformat_minor": 2
}
