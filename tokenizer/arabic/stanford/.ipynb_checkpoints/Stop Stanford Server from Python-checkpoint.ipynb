{
 "cells": [
  {
   "cell_type": "markdown",
   "metadata": {},
   "source": [
    "#### Stop Server"
   ]
  },
  {
   "cell_type": "code",
   "execution_count": 13,
   "metadata": {},
   "outputs": [],
   "source": [
    "import os\n",
    "import signal\n",
    "import subprocess\n",
    "from subprocess import Popen, PIPE\n",
    "\n",
    "cmd = \"\"\"ps -ef | grep StanfordCoreNLPServer | awk '$8==\"java\" {print $2}'\"\"\"\n",
    "ps = Popen(cmd, stdout=subprocess.PIPE, stderr=subprocess.PIPE, shell=True);\n",
    "reply = ps.communicate()\n",
    "try :\n",
    "    txt = reply[0].decode()\n",
    "    os.kill(int(txt), signal.SIGTERM)\n",
    "except ValueError:\n",
    "    print (\"Server already is down\")"
   ]
  }
 ],
 "metadata": {
  "kernelspec": {
   "display_name": "Python 3",
   "language": "python",
   "name": "python3"
  },
  "language_info": {
   "codemirror_mode": {
    "name": "ipython",
    "version": 3
   },
   "file_extension": ".py",
   "mimetype": "text/x-python",
   "name": "python",
   "nbconvert_exporter": "python",
   "pygments_lexer": "ipython3",
   "version": "3.6.5"
  }
 },
 "nbformat": 4,
 "nbformat_minor": 2
}
