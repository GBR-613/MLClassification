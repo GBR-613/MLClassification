{
 "cells": [
  {
   "cell_type": "markdown",
   "metadata": {},
   "source": [
    "#### Tokenization with Stanford POS Tagger\n",
    "Source text file(s) are splitted by sentences and sentences are tokenized by wrapper of Stanford POS Tagger (**ArabicStanfordPOSTagger.jar**), which uses Arabic specific model and properties.\n",
    "It is assumed here, that all source text files will be placed in the folder ~/MLClassificationData.    \n",
    "Original and resulting (tokenized) files will have the same names and will be placed in the same file's tree, under the same root folder:\n",
    "- original files - under subfolder _source_, \n",
    "- tokenized files - under subfolder _target_.\n",
    "\n",
    "_**Note:**_ you should change value of variable _root_ to set actual name of the root folder.\n"
   ]
  },
  {
   "cell_type": "code",
   "execution_count": 8,
   "metadata": {},
   "outputs": [
    {
     "name": "stdout",
     "output_type": "stream",
     "text": [
      "Created file /home/user/MLClassificationData/test/source/docs.txt contains 34 sentences.\n",
      "Created file /home/user/MLClassificationData/test/source/Fold1/docs.txt contains 34 sentences.\n",
      "Created file /home/user/MLClassificationData/test/source/Fold1/Fold2/docs.txt contains 34 sentences.\n",
      "Created file /home/user/MLClassificationData/test/source/Fold1/zdocs.txt contains 34 sentences.\n",
      "Created file /home/user/MLClassificationData/test/source/zdocs.txt contains 34 sentences.\n",
      "At all: wrote 170 lines in 7 sec\n"
     ]
    }
   ],
   "source": [
    "import os\n",
    "import glob\n",
    "import subprocess   \n",
    "import threading\n",
    "import datetime\n",
    "import shutil\n",
    "from pathlib import Path\n",
    "from subprocess import Popen, PIPE\n",
    "\n",
    "taggerPath = str(Path.home()) + \"/MLClassification/tokenizer/arabic/stanford/taggers/ArabicStanfordPOSTagger.jar\" \n",
    "\n",
    "# Change value of this variable \n",
    "root = \"test\"\n",
    "homePath = str(Path.home()) + \"/MLClassificationData\"\n",
    "inPath = homePath + \"/\" + root + \"/source\"\n",
    "lines = 0\n",
    "\n",
    "def tokenizeData(path):\n",
    "    global lines\n",
    "    curDir = os.getcwd()\n",
    "    os.chdir(path);\n",
    "    for ff in glob.glob(\"*\"):\n",
    "        if os.path.isdir(ff):\n",
    "            dPath = path + \"/\" + ff\n",
    "            tPath = dPath.replace(\"source\",\"target\")\n",
    "            if os.path.exists(tPath):\n",
    "                shutil.rmtree(tPath)\n",
    "            os.mkdir(tPath)\n",
    "            tokenizeData(dPath)\n",
    "            continue\n",
    "        fPath = path + \"/\" + ff\n",
    "        ds = datetime.datetime.now()\n",
    "        outPath = fPath.replace(\"source\", \"target\")\n",
    "        srv = subprocess.Popen(\"java -Xmx2g -jar \" + taggerPath + \" \" + fPath + \" \" + outPath, \n",
    "                stdout=subprocess.PIPE, shell=True) \n",
    "        srv.wait();\n",
    "        reply = srv.communicate()\n",
    "        rArr = reply[0].decode().split('\\n');\n",
    "        count = 0\n",
    "        for i in range(len(rArr)):\n",
    "            arr = rArr[i].split(' ')\n",
    "            if len(arr) > 2 and arr[2] == \"contains\":\n",
    "                count = int(arr[3]);\n",
    "                break\n",
    "        lines += count\n",
    "        print (\"Created file %s contains %d sentences.\"%(fPath, count))\n",
    "    return lines\n",
    "        \n",
    "def showTime(ds,de):\n",
    "    result = ''\n",
    "    seconds = (de-ds).total_seconds()\n",
    "    hh = int(seconds/(60*24));\n",
    "    if hh > 0:\n",
    "        result = \"%d h:\"%(hh);\n",
    "    seconds -= hh*60*24\n",
    "    mm = int(seconds/60);\n",
    "    if mm > 0:\n",
    "        result += \"%d min:\"%(mm)\n",
    "    ss = seconds - mm*60;\n",
    "    result += \"%d sec\"%(ss)\n",
    "    return result\n",
    "        \n",
    "ds = datetime.datetime.now()        \n",
    "tokenizeData(inPath);\n",
    "de = datetime.datetime.now()\n",
    "print (\"At all: wrote %d lines in %s\"%(lines, showTime(ds,de)))"
   ]
  }
 ],
 "metadata": {
  "kernelspec": {
   "display_name": "Python 3",
   "language": "python",
   "name": "python3"
  },
  "language_info": {
   "codemirror_mode": {
    "name": "ipython",
    "version": 3
   },
   "file_extension": ".py",
   "mimetype": "text/x-python",
   "name": "python",
   "nbconvert_exporter": "python",
   "pygments_lexer": "ipython3",
   "version": "3.6.5"
  }
 },
 "nbformat": 4,
 "nbformat_minor": 2
}
