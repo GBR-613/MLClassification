{
 "cells": [
  {
   "cell_type": "markdown",
   "metadata": {},
   "source": [
    "#### Tokenization with Stanford POS Tagger\n",
    "Source text file(s) are splitted by sentences and sentences are tokenized by wrapper of Stanford POS Tagger (**ArabicStanfordPOSTagger.jar**), which uses Arabic specific model and properties.\n",
    "It is assumed here, that all source text files will be placed in the folder ~/MLClassificationData.    \n",
    "Original and resulting (tokenized) files will have the same names and will be placed in the same file's tree, under the same root folder:\n",
    "- original files - under subfolder _source_, \n",
    "- tokenized files - under subfolder _target_.\n",
    "\n",
    "_**Note:**_ you should change value of variable _root_ to set actual name of the root folder.\n"
   ]
  },
  {
   "cell_type": "code",
   "execution_count": 2,
   "metadata": {
    "scrolled": false
   },
   "outputs": [
    {
     "name": "stdout",
     "output_type": "stream",
     "text": [
      "At all: create 40 folders and 16610 files containing 18840 lines in 12 h:19 min:43 sec\n"
     ]
    }
   ],
   "source": [
    "import os\n",
    "import glob\n",
    "import subprocess   \n",
    "import threading\n",
    "import datetime\n",
    "import shutil\n",
    "from pathlib import Path\n",
    "from subprocess import Popen, PIPE\n",
    "\n",
    "taggerPath = str(Path.home()) + \"/MLClassification/tokenizer/arabic/stanford/taggers/ArabicStanfordPOSTagger.jar\" \n",
    "\n",
    "# Change value of this variable \n",
    "root = \"train/rtanews\"\n",
    "homePath = str(Path.home()) + \"/MLClassificationData\"\n",
    "inPath = homePath + \"/\" + root + \"/source\"\n",
    "lines = 0\n",
    "folders = 0\n",
    "files = 0\n",
    "verbose = False\n",
    "\n",
    "def tokenizeData(path, lines, folders, files):\n",
    "    curDir = os.getcwd()\n",
    "    os.chdir(path);\n",
    "    for ff in glob.glob(\"*\"):\n",
    "        fPath = dPath = path + \"/\" + ff\n",
    "        if os.path.isdir(fPath):\n",
    "            dPath = fPath\n",
    "            tPath = dPath.replace(\"source\",\"target\")\n",
    "            if os.path.exists(tPath):\n",
    "                shutil.rmtree(tPath)\n",
    "            os.mkdir(tPath)\n",
    "            folders += 1\n",
    "            if verbose == False:\n",
    "                print (\"Create folders: %d, files: %d, lines: %d\"%(folders, files, lines), end='\\r')\n",
    "            lines, folders, files = tokenizeData(dPath, lines, folders, files)\n",
    "            continue\n",
    "        ds = datetime.datetime.now()\n",
    "        outPath = fPath.replace(\"source\", \"target\")\n",
    "        srv = subprocess.Popen(\"java -Xmx2g -jar \" + taggerPath + ' \"' + fPath + '\" \"' + outPath + '\"', \n",
    "                stdout=subprocess.PIPE, shell=True) \n",
    "        srv.wait();\n",
    "        reply = srv.communicate()\n",
    "        rep = reply[0].decode()\n",
    "        if \"Error\" in rep:\n",
    "            print (\"!!! When handle %s : %s\"%(fPath, rep))\n",
    "            return -1\n",
    "        files += 1\n",
    "        rArr = rep.split('\\n');\n",
    "        count = 0\n",
    "        for i in range(len(rArr)):\n",
    "            arr = rArr[i].split(' ')\n",
    "            if len(arr) > 2 and arr[2] == \"contains\":\n",
    "                count = int(arr[3]);\n",
    "                break\n",
    "        lines += count\n",
    "        if verbose == True:\n",
    "            print (\"Created file %s contains %d sentences.\"%(outPath, count))\n",
    "        else:\n",
    "            print (\"Create folders: %d, files: %d, lines: %d\"%(folders, files, lines), end='\\r')\n",
    "    return lines,folders,files\n",
    "        \n",
    "def showTime(ds,de):\n",
    "    result = ''\n",
    "    seconds = (de-ds).total_seconds()\n",
    "    hh = int(seconds/(60*60));\n",
    "    if hh > 0:\n",
    "        result = \"%d h:\"%(hh);\n",
    "    seconds -= hh*60*60\n",
    "    mm = int(seconds/60);\n",
    "    if mm > 0:\n",
    "        result += \"%d min:\"%(mm)\n",
    "    ss = seconds - mm*60;\n",
    "    result += \"%d sec\"%(ss)\n",
    "    return result\n",
    "        \n",
    "ds = datetime.datetime.now()        \n",
    "lines, folders, files = tokenizeData(inPath, lines, folders, files);\n",
    "if lines >= 0:\n",
    "    de = datetime.datetime.now()\n",
    "    print (\"At all: create %d folders and %d files containing %d lines in %s\"%(folders, files, lines, showTime(ds,de)))"
   ]
  },
  {
   "cell_type": "code",
   "execution_count": null,
   "metadata": {},
   "outputs": [],
   "source": []
  }
 ],
 "metadata": {
  "kernelspec": {
   "display_name": "Python 3",
   "language": "python",
   "name": "python3"
  },
  "language_info": {
   "codemirror_mode": {
    "name": "ipython",
    "version": 3
   },
   "file_extension": ".py",
   "mimetype": "text/x-python",
   "name": "python",
   "nbconvert_exporter": "python",
   "pygments_lexer": "ipython3",
   "version": "3.6.5"
  }
 },
 "nbformat": 4,
 "nbformat_minor": 2
}
